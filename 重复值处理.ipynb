{
 "cells": [
  {
   "cell_type": "code",
   "execution_count": 17,
   "id": "cb755ed5",
   "metadata": {},
   "outputs": [
    {
     "name": "stdout",
     "output_type": "stream",
     "text": [
      "  col1  col2\n",
      "0    a     3\n",
      "1    b     2\n",
      "2    a     3\n",
      "3    c     2 \n",
      "\n",
      "0    False\n",
      "1    False\n",
      "2     True\n",
      "3    False\n",
      "dtype: bool \n",
      "\n",
      "删除全部相同的值\n",
      "   col1  col2\n",
      "0    a     3\n",
      "1    b     2\n",
      "3    c     2\n",
      "删除col1相同的值\n",
      "   col1  col2\n",
      "0    a     3\n",
      "1    b     2\n",
      "3    c     2\n",
      "删除col2相同的值\n",
      "   col1  col2\n",
      "0    a     3\n",
      "1    b     2\n",
      "删除指定列相同的值\n",
      "   col1  col2\n",
      "0    a     3\n",
      "1    b     2\n",
      "3    c     2\n"
     ]
    }
   ],
   "source": [
    "import pandas as pd\n",
    "data1 = ['a',3]\n",
    "data2 = ['b',2]\n",
    "data3 = ['a',3]\n",
    "data4 = ['c',2]\n",
    "df = pd.DataFrame([data1,data2,data3,data4],columns = ['col1','col2'])\n",
    "print(df,'\\n')\n",
    "isDuplicated = df.duplicated()\n",
    "print(isDuplicated,'\\n')\n",
    "new_df1 = df.drop_duplicates()\n",
    "print('删除全部相同的值\\n',new_df1)\n",
    "new_df2 = df.drop_duplicates(['col1'])\n",
    "print('删除col1相同的值\\n',new_df2)\n",
    "new_df3 = df.drop_duplicates(['col2'])\n",
    "print('删除col2相同的值\\n',new_df3)\n",
    "new_df4 = df.drop_duplicates(['col1','col2'])\n",
    "print('删除指定列相同的值\\n',new_df4)"
   ]
  },
  {
   "cell_type": "code",
   "execution_count": null,
   "id": "f937adaa",
   "metadata": {},
   "outputs": [],
   "source": []
  }
 ],
 "metadata": {
  "kernelspec": {
   "display_name": "Python 3 (ipykernel)",
   "language": "python",
   "name": "python3"
  },
  "language_info": {
   "codemirror_mode": {
    "name": "ipython",
    "version": 3
   },
   "file_extension": ".py",
   "mimetype": "text/x-python",
   "name": "python",
   "nbconvert_exporter": "python",
   "pygments_lexer": "ipython3",
   "version": "3.9.13"
  }
 },
 "nbformat": 4,
 "nbformat_minor": 5
}
