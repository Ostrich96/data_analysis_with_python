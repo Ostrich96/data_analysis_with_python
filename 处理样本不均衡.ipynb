{
 "cells": [
  {
   "cell_type": "code",
   "execution_count": 46,
   "id": "7b5bbcc5",
   "metadata": {},
   "outputs": [
    {
     "data": {
      "text/plain": [
       "'\\nSMOTE全称是Synthetic Minority Oversampling Technique即合成少数类过采样技术，它是基于随机过采样算法的一种改进方案，由于随机过采样采取简单复制样本的策略来增加少数类样本，这样容易产生模型过拟合的问题，即使得模型学习到的信息过于特别(Specific)而不够泛化(General)，SMOTE算法的基本思想是对少数类样本进行分析并根据少数类样本人工合成新样本添加到数据集中，具体如图2所示，算法流程如下。\\n\\n对于少数类中每一个样本x xx，以欧氏距离为标准计算它到少数类样本集S m i n S_{min}S \\nmin\\n\\u200b\\n 中所有样本的距离，得到其k近邻。\\n根据样本不平衡比例设置一个采样比例以确定采样倍率N，对于每一个少数类样本x xx，从其k近邻中随机选择若干个样本，假设选择的近邻为x n xnxn。\\n对于每一个随机选出的近邻x n xnxn，分别与原样本按照如下的公式构建新的样本\\nx n e w = x + r a n d ( 0 , 1 ) ∗ ∣ x − x n ∣ x_{new}=x+rand(0,1)*|x-xn|\\nx \\nnew\\n\\u200b\\n =x+rand(0,1)∗∣x−xn∣\\n\\n原文链接：https://blog.csdn.net/jiede1/article/details/70215477\\n\\n'"
      ]
     },
     "execution_count": 46,
     "metadata": {},
     "output_type": "execute_result"
    }
   ],
   "source": [
    "'''\n",
    "SMOTE全称是Synthetic Minority Oversampling Technique即合成少数类过采样技术，它是基于随机过采样算法的一种改进方案，由于随机过采样采取简单复制样本的策略来增加少数类样本，这样容易产生模型过拟合的问题，即使得模型学习到的信息过于特别(Specific)而不够泛化(General)，SMOTE算法的基本思想是对少数类样本进行分析并根据少数类样本人工合成新样本添加到数据集中，具体如图2所示，算法流程如下。\n",
    "\n",
    "对于少数类中每一个样本x xx，以欧氏距离为标准计算它到少数类样本集S m i n S_{min}S \n",
    "min\n",
    "​\n",
    " 中所有样本的距离，得到其k近邻。\n",
    "根据样本不平衡比例设置一个采样比例以确定采样倍率N，对于每一个少数类样本x xx，从其k近邻中随机选择若干个样本，假设选择的近邻为x n xnxn。\n",
    "对于每一个随机选出的近邻x n xnxn，分别与原样本按照如下的公式构建新的样本\n",
    "x n e w = x + r a n d ( 0 , 1 ) ∗ ∣ x − x n ∣ x_{new}=x+rand(0,1)*|x-xn|\n",
    "x \n",
    "new\n",
    "​\n",
    " =x+rand(0,1)∗∣x−xn∣\n",
    "\n",
    "原文链接：https://blog.csdn.net/jiede1/article/details/70215477\n",
    "\n",
    "'''"
   ]
  },
  {
   "cell_type": "code",
   "execution_count": 47,
   "id": "016dfef3",
   "metadata": {},
   "outputs": [
    {
     "name": "stdout",
     "output_type": "stream",
     "text": [
      "     col1  col2  col3  col4  col5  label\n",
      "0       1    -1     1    -1    -1      1\n",
      "1      -1     0     1    -1    -1      0\n",
      "2       0     1     0     0     1      0\n",
      "3       0     1     2    -2     1      1\n",
      "4      -2     1     1    -2     1      1\n",
      "..    ...   ...   ...   ...   ...    ...\n",
      "995     1    -1     1    -1    -1      0\n",
      "996    -1    -1     2    -2    -2      0\n",
      "997    -1     1    -1     2     2      1\n",
      "998     0    -1     1    -1    -1      0\n",
      "999     1     1     2    -2     1      1\n",
      "\n",
      "[1000 rows x 6 columns]\n",
      "     col1  col2  col3  col4  col5\n",
      "0       1    -1     1    -1    -1\n",
      "1      -1     0     1    -1    -1\n",
      "2       0     1     0     0     1\n",
      "3       0     1     2    -2     1\n",
      "4      -2     1     1    -2     1\n",
      "..    ...   ...   ...   ...   ...\n",
      "995     1    -1     1    -1    -1\n",
      "996    -1    -1     2    -2    -2\n",
      "997    -1     1    -1     2     2\n",
      "998     0    -1     1    -1    -1\n",
      "999     1     1     2    -2     1\n",
      "\n",
      "[1000 rows x 5 columns]\n"
     ]
    }
   ],
   "source": [
    "import pandas as pd\n",
    "from imblearn.over_sampling import SMOTE#过抽样处理库\n",
    "from imblearn.under_sampling import RandomUnderSampler#欠抽样处理库\n",
    "from sklearn.svm import SVC#SVM中分类算法svc\n",
    "from imblearn.ensemble import EasyEnsembleClassifier#简单集成方法easyensemble\n",
    "df = pd.read_table('python_book_v2/chapter3/data2.txt',sep = '\\t',names = ['col1','col2','col3','col4','col5','label'])\n",
    "print(df)\n",
    "x = df.iloc[:,:-1]\n",
    "print(x)\n",
    "y = df.iloc[:,-1]"
   ]
  },
  {
   "cell_type": "code",
   "execution_count": 48,
   "id": "2b4ef89c",
   "metadata": {},
   "outputs": [
    {
     "name": "stdout",
     "output_type": "stream",
     "text": [
      "       col1  col2  col3  col4  col5\n",
      "label                              \n",
      "0       475   475   475   475   475\n",
      "1       525   525   525   525   525\n"
     ]
    }
   ],
   "source": [
    "groupby_data_original = df.groupby('label').count()\n",
    "print(groupby_data_original)"
   ]
  },
  {
   "cell_type": "code",
   "execution_count": 49,
   "id": "2523aac7",
   "metadata": {},
   "outputs": [
    {
     "name": "stdout",
     "output_type": "stream",
     "text": [
      "      col1  col2  col3  col4  col5\n",
      "0        1    -1     1    -1    -1\n",
      "1       -1     0     1    -1    -1\n",
      "2        0     1     0     0     1\n",
      "3        0     1     2    -2     1\n",
      "4       -2     1     1    -2     1\n",
      "...    ...   ...   ...   ...   ...\n",
      "1045     0    -1     2    -2    -2\n",
      "1046     0     1     0     0     1\n",
      "1047     0     1     1    -1     1\n",
      "1048     0     1     2    -2     1\n",
      "1049     0     0     1    -1    -1\n",
      "\n",
      "[1050 rows x 5 columns]\n",
      "0       1\n",
      "1       0\n",
      "2       0\n",
      "3       1\n",
      "4       1\n",
      "       ..\n",
      "1045    0\n",
      "1046    0\n",
      "1047    0\n",
      "1048    0\n",
      "1049    0\n",
      "Name: label, Length: 1050, dtype: int64\n",
      "      col1  col2  col3  col4  col5  label\n",
      "0        1    -1     1    -1    -1      1\n",
      "1       -1     0     1    -1    -1      0\n",
      "2        0     1     0     0     1      0\n",
      "3        0     1     2    -2     1      1\n",
      "4       -2     1     1    -2     1      1\n",
      "...    ...   ...   ...   ...   ...    ...\n",
      "1045     0    -1     2    -2    -2      0\n",
      "1046     0     1     0     0     1      0\n",
      "1047     0     1     1    -1     1      0\n",
      "1048     0     1     2    -2     1      0\n",
      "1049     0     0     1    -1    -1      0\n",
      "\n",
      "[1050 rows x 6 columns]\n",
      "       col1  col2  col3  col4  col5\n",
      "label                              \n",
      "0       525   525   525   525   525\n",
      "1       525   525   525   525   525\n"
     ]
    }
   ],
   "source": [
    "model_smote = SMOTE()\n",
    "x_smote_resampled,y_smote_resampled = model_smote.fit_resample(x,y)\n",
    "print(x_smote_resampled)\n",
    "print(y_smote_resampled)\n",
    "smote_resambled = pd.concat([x_smote_resampled,y_smote_resampled],axis = 1)\n",
    "print(smote_resambled)\n",
    "groupby_data_smote = smote_resambled.groupby('label').count()\n",
    "print(groupby_data_smote)"
   ]
  },
  {
   "cell_type": "markdown",
   "id": "63534585",
   "metadata": {},
   "source": [
    "可以看到相比原始数据多了50个样本"
   ]
  },
  {
   "cell_type": "code",
   "execution_count": 50,
   "id": "5fd8bb16",
   "metadata": {},
   "outputs": [
    {
     "name": "stdout",
     "output_type": "stream",
     "text": [
      "     col1  col2  col3  col4  col5\n",
      "0      -1     0     1    -1    -1\n",
      "1       0     1     0     0     1\n",
      "2      -2     1    -1     1     1\n",
      "3       1     1     2    -2     0\n",
      "4       0     1    -1     1     1\n",
      "..    ...   ...   ...   ...   ...\n",
      "945    -1     1    -1     1     2\n",
      "946    -1     1     2    -2     1\n",
      "947     1     0     0     0     1\n",
      "948     0    -1     1    -1    -1\n",
      "949    -1     1     1    -1     1\n",
      "\n",
      "[950 rows x 5 columns]\n",
      "0      0\n",
      "1      0\n",
      "2      0\n",
      "3      0\n",
      "4      0\n",
      "      ..\n",
      "945    1\n",
      "946    1\n",
      "947    1\n",
      "948    1\n",
      "949    1\n",
      "Name: label, Length: 950, dtype: int64\n",
      "     col1  col2  col3  col4  col5  label\n",
      "0      -1     0     1    -1    -1      0\n",
      "1       0     1     0     0     1      0\n",
      "2      -2     1    -1     1     1      0\n",
      "3       1     1     2    -2     0      0\n",
      "4       0     1    -1     1     1      0\n",
      "..    ...   ...   ...   ...   ...    ...\n",
      "945    -1     1    -1     1     2      1\n",
      "946    -1     1     2    -2     1      1\n",
      "947     1     0     0     0     1      1\n",
      "948     0    -1     1    -1    -1      1\n",
      "949    -1     1     1    -1     1      1\n",
      "\n",
      "[950 rows x 6 columns]\n",
      "       col1  col2  col3  col4  col5\n",
      "label                              \n",
      "0       475   475   475   475   475\n",
      "1       475   475   475   475   475\n"
     ]
    }
   ],
   "source": [
    "model_RandomUnderSampler = RandomUnderSampler()\n",
    "x_RandomUnderSampler_resampled,y_RandomUnderSampler_resampled = model_RandomUnderSampler.fit_resample(x,y)\n",
    "print(x_RandomUnderSampler_resampled)\n",
    "print(y_RandomUnderSampler_resampled)\n",
    "RandomUnderSampler_resampled = pd.concat([x_RandomUnderSampler_resampled,y_RandomUnderSampler_resampled],axis = 1)\n",
    "print(RandomUnderSampler_resampled)\n",
    "groupby_data_RandomUnderSampler = RandomUnderSampler_resampled.groupby('label').count()\n",
    "print(groupby_data_RandomUnderSampler)"
   ]
  },
  {
   "cell_type": "markdown",
   "id": "11f067f6",
   "metadata": {},
   "source": [
    "相比原始数据减少了50个"
   ]
  },
  {
   "cell_type": "code",
   "execution_count": 51,
   "id": "c1c89ca0",
   "metadata": {},
   "outputs": [
    {
     "name": "stdout",
     "output_type": "stream",
     "text": [
      "[1]\n"
     ]
    }
   ],
   "source": [
    "model_svm = SVC(class_weight = 'balanced')\n",
    "model_svm.fit(x,y)\n",
    "model_EasyEnsemble =EasyEnsembleClassifier()\n",
    "model_EasyEnsemble.fit(x,y)\n",
    "y_EasyEnsemble_Resampled = model_EasyEnsemble.predict(x)\n",
    "testx = pd.DataFrame(data=[[1,0,1,0,1]],columns = ['col1','col2','col3','col4','col5'])\n",
    "y_svm_resampled = model_svm.predict(testx)\n",
    "print(y_svm_resampled)"
   ]
  },
  {
   "cell_type": "code",
   "execution_count": null,
   "id": "ebbc5854",
   "metadata": {},
   "outputs": [],
   "source": []
  },
  {
   "cell_type": "code",
   "execution_count": null,
   "id": "09479c9c",
   "metadata": {},
   "outputs": [],
   "source": []
  }
 ],
 "metadata": {
  "kernelspec": {
   "display_name": "Python 3 (ipykernel)",
   "language": "python",
   "name": "python3"
  },
  "language_info": {
   "codemirror_mode": {
    "name": "ipython",
    "version": 3
   },
   "file_extension": ".py",
   "mimetype": "text/x-python",
   "name": "python",
   "nbconvert_exporter": "python",
   "pygments_lexer": "ipython3",
   "version": "3.9.13"
  }
 },
 "nbformat": 4,
 "nbformat_minor": 5
}
