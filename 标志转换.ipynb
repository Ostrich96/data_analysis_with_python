{
 "cells": [
  {
   "cell_type": "code",
   "execution_count": 1,
   "id": "04bea9fd",
   "metadata": {},
   "outputs": [],
   "source": [
    "import pandas as pd\n",
    "from sklearn.preprocessing import OneHotEncoder"
   ]
  },
  {
   "cell_type": "code",
   "execution_count": 20,
   "id": "03c4eb7f",
   "metadata": {},
   "outputs": [
    {
     "name": "stdout",
     "output_type": "stream",
     "text": [
      "        id     sex   level\n",
      "0  3566841    male    high\n",
      "1  6541227  female     low\n",
      "2  3512441  female  middle\n"
     ]
    }
   ],
   "source": [
    "df = pd.DataFrame({'id':[3566841,6541227,3512441],'sex':['male','female','female'],'level':['high','low','middle']})\n",
    "print(df)"
   ]
  },
  {
   "cell_type": "code",
   "execution_count": 38,
   "id": "01d184ef",
   "metadata": {},
   "outputs": [
    {
     "name": "stdout",
     "output_type": "stream",
     "text": [
      "        id  sex_male  sex_female  level_high  level_low  level_middle\n",
      "0  3566841      True       False        True      False         False\n",
      "1  6541227     False        True       False       True         False\n",
      "2  3512441     False        True       False      False          True\n",
      "[[1 3]\n",
      " [2 1]\n",
      " [2 2]]\n",
      "[[1. 0. 0. 0. 1.]\n",
      " [0. 1. 1. 0. 0.]\n",
      " [0. 1. 0. 1. 0.]]\n",
      "         0    0    1    2    3    4\n",
      "0  3566841  1.0  0.0  0.0  0.0  1.0\n",
      "1  6541227  0.0  1.0  1.0  0.0  0.0\n",
      "2  3512441  0.0  1.0  0.0  1.0  0.0\n"
     ]
    }
   ],
   "source": [
    "df_new = df.copy()\n",
    "for col_num,col_name in enumerate(df):\n",
    "    col_data = df[col_name]\n",
    "    col_dtype = col_data.dtype\n",
    "    if col_dtype == 'object':\n",
    "        df_new = df_new.drop(columns = col_name)#删除需要标志转换的列\n",
    "        value_sets = col_data.unique()#获取每一列的唯一值\n",
    "        for value_unique in value_sets:\n",
    "            col_name_new = col_name + '_' +value_unique\n",
    "            col_tmp = df.iloc[:,col_num]\n",
    "            new_col = (col_tmp == value_unique)\n",
    "            #print(col_tmp)\n",
    "            #print(value_unique)\n",
    "            #print(new_col)\n",
    "            df_new[col_name_new] = new_col\n",
    "print(df_new)\n",
    "df2 = pd.DataFrame({'id':[3566841,6541227,3512441],\n",
    "                   'sex':[1,2,2],\n",
    "                   'level':[3,1,2]})\n",
    "id_data = df2.values[:,:1]\n",
    "#print(id_data)\n",
    "transform_data = df2.values[:,1:]\n",
    "print(transform_data)\n",
    "enc = OneHotEncoder()\n",
    "df2_new = enc.fit_transform(transform_data).toarray()\n",
    "#print(enc)\n",
    "print(df2_new)\n",
    "'''\n",
    "onehotencoder, 每列一个特征，每行一个样本，第一列1，2，2 有两个取值，[1，0]代表1，[0，1]代表2，\n",
    "第二列3，1，2有三个取值，则[1,0,0] = 1,[0,1,0] = 2,[0.0.1] = 3\n",
    "最后要加toarray，不然输出的是稀疏矩阵\n",
    "'''\n",
    "df2_all = pd.concat((pd.DataFrame(id_data),pd.DataFrame(df2_new)),axis = 1)\n",
    "print(df2_all)\n",
    "        "
   ]
  },
  {
   "cell_type": "code",
   "execution_count": null,
   "id": "7331cd92",
   "metadata": {},
   "outputs": [],
   "source": []
  }
 ],
 "metadata": {
  "kernelspec": {
   "display_name": "Python 3 (ipykernel)",
   "language": "python",
   "name": "python3"
  },
  "language_info": {
   "codemirror_mode": {
    "name": "ipython",
    "version": 3
   },
   "file_extension": ".py",
   "mimetype": "text/x-python",
   "name": "python",
   "nbconvert_exporter": "python",
   "pygments_lexer": "ipython3",
   "version": "3.9.13"
  }
 },
 "nbformat": 4,
 "nbformat_minor": 5
}
