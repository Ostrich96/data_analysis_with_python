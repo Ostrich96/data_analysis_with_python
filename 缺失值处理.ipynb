{
 "cells": [
  {
   "cell_type": "code",
   "execution_count": 2,
   "id": "2e3d832e",
   "metadata": {},
   "outputs": [
    {
     "data": {
      "text/plain": [
       "'\\n缺失值处理主要方法：\\n1：丢弃\\n2：补全\\n3：真值转换\\n4：忽略\\n\\nsklearn中有impute方法对缺失值进行处理\\n或直接pandas中用fillna()函数\\n'"
      ]
     },
     "execution_count": 2,
     "metadata": {},
     "output_type": "execute_result"
    }
   ],
   "source": [
    "\"\"\"\n",
    "缺失值处理主要方法：\n",
    "1：丢弃\n",
    "2：补全\n",
    "3：真值转换\n",
    "4：忽略\n",
    "\n",
    "sklearn中有impute方法对缺失值进行处理\n",
    "或直接pandas中用fillna()函数\n",
    "\"\"\""
   ]
  },
  {
   "cell_type": "code",
   "execution_count": 3,
   "id": "f3b599f8",
   "metadata": {},
   "outputs": [
    {
     "name": "stdout",
     "output_type": "stream",
     "text": [
      "       col1      col2      col3      col4\n",
      "0  0.415629 -0.183139 -0.146892  0.523108\n",
      "1 -0.998354       NaN -0.932243  0.140786\n",
      "2  1.312101 -2.083496  0.906759  0.490925\n",
      "3 -1.579474  0.449776 -1.208180  1.075324\n",
      "4 -1.669224  0.016726 -0.180254       NaN\n",
      "5 -1.401127 -1.692252  0.326683  1.080635\n",
      "    col1   col2   col3   col4\n",
      "0  False  False  False  False\n",
      "1  False   True  False  False\n",
      "2  False  False  False  False\n",
      "3  False  False  False  False\n",
      "4  False  False  False   True\n",
      "5  False  False  False  False\n"
     ]
    }
   ],
   "source": [
    "import pandas as pd\n",
    "import numpy as np\n",
    "\n",
    "'''\n",
    "创建一个有nan值的dataframe\n",
    "'''\n",
    "df = pd.DataFrame(np.random.randn(6,4),columns = ['col1','col2','col3','col4'])\n",
    "df.iloc[1:2,1] = np.nan\n",
    "df.iloc[4,3] = np.nan\n",
    "print(df)\n",
    "\n",
    "nan_all = df.isnull()\n",
    "print(nan_all)"
   ]
  },
  {
   "cell_type": "code",
   "execution_count": 4,
   "id": "0280b44d",
   "metadata": {},
   "outputs": [
    {
     "name": "stdout",
     "output_type": "stream",
     "text": [
      "col1    False\n",
      "col2     True\n",
      "col3    False\n",
      "col4     True\n",
      "dtype: bool\n",
      "col1    False\n",
      "col2    False\n",
      "col3    False\n",
      "col4    False\n",
      "dtype: bool\n"
     ]
    }
   ],
   "source": [
    "'''\n",
    "获得有nan的列和全部为nan的列\n",
    "'''\n",
    "nan_col1 = df.isnull().any()\n",
    "nan_col2 = df.isnull().all()\n",
    "print(nan_col1)\n",
    "print(nan_col2)"
   ]
  },
  {
   "cell_type": "code",
   "execution_count": 5,
   "id": "bf2d9d5d",
   "metadata": {},
   "outputs": [
    {
     "name": "stdout",
     "output_type": "stream",
     "text": [
      "       col1      col2      col3      col4\n",
      "0  0.415629 -0.183139 -0.146892  0.523108\n",
      "2  1.312101 -2.083496  0.906759  0.490925\n",
      "3 -1.579474  0.449776 -1.208180  1.075324\n",
      "5 -1.401127 -1.692252  0.326683  1.080635\n"
     ]
    }
   ],
   "source": [
    "'''丢弃缺失值'''\n",
    "df2 = df.dropna()\n",
    "print(df2)"
   ]
  },
  {
   "cell_type": "code",
   "execution_count": 6,
   "id": "336c225a",
   "metadata": {},
   "outputs": [
    {
     "name": "stdout",
     "output_type": "stream",
     "text": [
      "[[ 0.41562862 -0.18313901 -0.14689151  0.52310828]\n",
      " [-0.9983536  -0.69847706 -0.93224348  0.14078634]\n",
      " [ 1.31210077 -2.08349593  0.90675916  0.4909251 ]\n",
      " [-1.57947367  0.44977559 -1.20818012  1.07532447]\n",
      " [-1.66922387  0.01672623 -0.18025367  0.66215577]\n",
      " [-1.40112698 -1.69225218  0.32668339  1.08063466]]\n"
     ]
    }
   ],
   "source": [
    "#使用sklearn的simpleImputer将缺失值替换为指定值\n",
    "from sklearn.impute import SimpleImputer\n",
    "nan_model = SimpleImputer(missing_values=np.nan,strategy= 'mean')\n",
    "nan_result = nan_model.fit_transform(df)\n",
    "print(nan_result)"
   ]
  },
  {
   "cell_type": "code",
   "execution_count": 9,
   "id": "4167b50f",
   "metadata": {},
   "outputs": [
    {
     "name": "stdout",
     "output_type": "stream",
     "text": [
      "fill nan with 0\n",
      "        col1      col2      col3      col4\n",
      "0  0.415629 -0.183139 -0.146892  0.523108\n",
      "1 -0.998354  0.000000 -0.932243  0.140786\n",
      "2  1.312101 -2.083496  0.906759  0.490925\n",
      "3 -1.579474  0.449776 -1.208180  1.075324\n",
      "4 -1.669224  0.016726 -0.180254  0.000000\n",
      "5 -1.401127 -1.692252  0.326683  1.080635 \n",
      "\n",
      "fill nan with the next valid value\n",
      "        col1      col2      col3      col4\n",
      "0  0.415629 -0.183139 -0.146892  0.523108\n",
      "1 -0.998354 -2.083496 -0.932243  0.140786\n",
      "2  1.312101 -2.083496  0.906759  0.490925\n",
      "3 -1.579474  0.449776 -1.208180  1.075324\n",
      "4 -1.669224  0.016726 -0.180254  1.080635\n",
      "5 -1.401127 -1.692252  0.326683  1.080635 \n",
      "\n",
      "fill nan with the previous valid value\n",
      "        col1      col2      col3      col4\n",
      "0  0.415629 -0.183139 -0.146892  0.523108\n",
      "1 -0.998354 -0.183139 -0.932243  0.140786\n",
      "2  1.312101 -2.083496  0.906759  0.490925\n",
      "3 -1.579474  0.449776 -1.208180  1.075324\n",
      "4 -1.669224  0.016726 -0.180254  1.075324\n",
      "5 -1.401127 -1.692252  0.326683  1.080635 \n",
      "\n",
      "fill specific nan with specific value\n",
      "        col1        col2      col3        col4\n",
      "0  0.415629   -0.183139 -0.146892    0.523108\n",
      "1 -0.998354  888.000000 -0.932243    0.140786\n",
      "2  1.312101   -2.083496  0.906759    0.490925\n",
      "3 -1.579474    0.449776 -1.208180    1.075324\n",
      "4 -1.669224    0.016726 -0.180254  999.000000\n",
      "5 -1.401127   -1.692252  0.326683    1.080635 \n",
      "\n",
      "col1   -0.653408\n",
      "col2   -0.698477\n",
      "col3   -0.205688\n",
      "col4    0.662156\n",
      "dtype: float64\n",
      "fill na with mean\n",
      "        col1      col2      col3      col4\n",
      "0  0.415629 -0.183139 -0.146892  0.523108\n",
      "1 -0.998354 -0.698477 -0.932243  0.140786\n",
      "2  1.312101 -2.083496  0.906759  0.490925\n",
      "3 -1.579474  0.449776 -1.208180  1.075324\n",
      "4 -1.669224  0.016726 -0.180254  0.662156\n",
      "5 -1.401127 -1.692252  0.326683  1.080635 \n",
      "\n"
     ]
    }
   ],
   "source": [
    "#使用pandas替换缺失值\n",
    "nan_result_pd1 = df.fillna(0)\n",
    "print(\"fill nan with 0\\n\",nan_result_pd1,'\\n')\n",
    "nan_result_pd2 = df.fillna(method = 'backfill',axis = 0)\n",
    "print(\"fill nan with the next valid value\\n\",nan_result_pd2,'\\n')\n",
    "nan_result_pd3 = df.fillna(method = 'pad')\n",
    "print(\"fill nan with the previous valid value\\n\", nan_result_pd3,'\\n')\n",
    "nan_result_pd4 = df.fillna({'col2':888,'col4':999})\n",
    "print(\"fill specific nan with specific value\\n\",nan_result_pd4,'\\n')\n",
    "print(df.mean()['col1':'col4'])\n",
    "nan_result_pd5 = df.fillna(df.mean()['col1':'col4'])\n",
    "print(\"fill na with mean\\n\",nan_result_pd5,'\\n')"
   ]
  },
  {
   "cell_type": "code",
   "execution_count": null,
   "id": "a8198c5d",
   "metadata": {},
   "outputs": [],
   "source": []
  }
 ],
 "metadata": {
  "kernelspec": {
   "display_name": "Python 3 (ipykernel)",
   "language": "python",
   "name": "python3"
  },
  "language_info": {
   "codemirror_mode": {
    "name": "ipython",
    "version": 3
   },
   "file_extension": ".py",
   "mimetype": "text/x-python",
   "name": "python",
   "nbconvert_exporter": "python",
   "pygments_lexer": "ipython3",
   "version": "3.9.13"
  }
 },
 "nbformat": 4,
 "nbformat_minor": 5
}
