{
 "cells": [
  {
   "cell_type": "code",
   "execution_count": 3,
   "id": "5d4fa3a7",
   "metadata": {},
   "outputs": [],
   "source": [
    "import numpy as np\n",
    "from sklearn.tree import DecisionTreeClassifier\n",
    "from sklearn.decomposition import PCA"
   ]
  },
  {
   "cell_type": "code",
   "execution_count": 4,
   "id": "ab394636",
   "metadata": {},
   "outputs": [
    {
     "name": "stdout",
     "output_type": "stream",
     "text": [
      "[[ 1.88622997  1.31785876 -0.16480621 ...  1.00579225  0.45485041\n",
      "   0.        ]\n",
      " [ 0.45016257  0.67080853 -1.16571355 ... -0.33194209 -2.94399437\n",
      "   1.        ]\n",
      " [ 0.48158666  0.33524676  0.72210929 ... -1.68387822  1.44933243\n",
      "   1.        ]\n",
      " ...\n",
      " [ 0.36101381 -1.10383044  1.2656558  ...  2.61770545 -1.14168056\n",
      "   1.        ]\n",
      " [ 0.88695058  0.75897958 -1.16120866 ... -1.57791648 -1.52150761\n",
      "   0.        ]\n",
      " [ 0.15444084 -0.27528562  0.77045662 ... -0.54756984  0.95966265\n",
      "   0.        ]]\n"
     ]
    }
   ],
   "source": [
    "data = np.loadtxt('python_book_v2/chapter3/data1.txt')\n",
    "print(data)"
   ]
  },
  {
   "cell_type": "code",
   "execution_count": 7,
   "id": "8a878609",
   "metadata": {},
   "outputs": [
    {
     "name": "stdout",
     "output_type": "stream",
     "text": [
      "[ 1.88622997  1.31785876 -0.16480621  0.56536882 -1.11934542 -0.53218995\n",
      " -0.6843102   1.24149827  1.00579225  0.45485041] 0.0\n"
     ]
    }
   ],
   "source": [
    "x = data[:,:-1]\n",
    "y = data[:,-1]\n",
    "#print(x)\n",
    "#print(y)\n",
    "print(x[0],y[0])"
   ]
  },
  {
   "cell_type": "code",
   "execution_count": 8,
   "id": "316741b5",
   "metadata": {},
   "outputs": [
    {
     "data": {
      "text/plain": [
       "DecisionTreeClassifier(random_state=0)"
      ]
     },
     "execution_count": 8,
     "metadata": {},
     "output_type": "execute_result"
    }
   ],
   "source": [
    "model_tree = DecisionTreeClassifier(random_state = 0)#建立分类决策树\n",
    "model_tree.fit(x,y)"
   ]
  },
  {
   "cell_type": "code",
   "execution_count": 9,
   "id": "bc0116b5",
   "metadata": {},
   "outputs": [
    {
     "name": "stdout",
     "output_type": "stream",
     "text": [
      "[0.03331054 0.01513967 0.02199713 0.119727   0.47930312 0.04776297\n",
      " 0.17111746 0.02585441 0.02012725 0.06566044]\n"
     ]
    }
   ],
   "source": [
    "feature_importance = model_tree.feature_importances_#获得所有变量的重要性得分\n",
    "print(feature_importance)\n",
    "#4,5,7三个变量重要性最高，，0.119，0.479，0.171，加起来约占77%，意味着三个变量已经具有非常显著的能代表所有变量参与模型计算的能力"
   ]
  },
  {
   "cell_type": "code",
   "execution_count": 10,
   "id": "b2bc5a12",
   "metadata": {},
   "outputs": [
    {
     "name": "stdout",
     "output_type": "stream",
     "text": [
      "[[ 7.18818316e-03  1.41619205e-02  1.00543847e-02  3.65097575e-01\n",
      "   6.38944537e-01 -1.95750380e-02 -1.73413378e-01 -3.80829974e-02\n",
      "  -2.87413113e-03 -6.52829504e-01]\n",
      " [ 1.01307710e-02 -1.95270201e-04 -2.33689543e-02 -6.12915216e-01\n",
      "   5.08983971e-01 -2.23429533e-02  6.02958940e-01 -1.49061329e-02\n",
      "  -1.81362216e-02 -3.41623971e-03]\n",
      " [ 2.42092694e-01 -3.68867909e-01  8.69351030e-02 -7.00211582e-03\n",
      "  -1.29243443e-02 -1.85568410e-01  3.19371656e-03 -5.45736371e-01\n",
      "   6.81990577e-01  1.29862924e-02]\n",
      " [-5.37952093e-01 -3.20020806e-01  5.71456215e-01 -6.04075415e-03\n",
      "   5.35156139e-03 -4.92373002e-01  6.00870251e-03  1.94978861e-01\n",
      "  -3.29057598e-02 -2.66614329e-04]\n",
      " [-2.91882846e-02 -4.75039025e-01  9.53825483e-03  5.00110135e-03\n",
      "  -1.65709576e-02  1.71776210e-01 -7.36820709e-03 -5.63662239e-01\n",
      "  -6.52490553e-01  8.65938745e-03]\n",
      " [ 3.86722587e-01  3.73998006e-01 -2.28028972e-02  6.86034092e-03\n",
      "  -3.54600793e-02 -7.55250474e-01 -1.26170621e-02 -2.09635798e-01\n",
      "  -3.06280052e-01  2.07261408e-02]\n",
      " [ 4.41046745e-01 -6.26000118e-01 -2.87801765e-01  1.47125241e-02\n",
      "   1.13717533e-02 -1.91730762e-01 -9.82256314e-03  5.35412291e-01\n",
      "  -8.14636710e-02 -1.63147483e-02]\n",
      " [ 5.53999842e-01  6.25285519e-02  7.62752959e-01 -1.25731911e-02\n",
      "   8.07325782e-03  2.92540207e-01  1.19020862e-02  1.18970339e-01\n",
      "  -8.53297072e-02  1.57582612e-03]\n",
      " [ 4.29036487e-17 -4.45197182e-18  6.09403329e-17 -6.91963987e-01\n",
      "  -1.98365028e-01  2.53014625e-18 -5.38423583e-01 -1.78703082e-17\n",
      "  -2.63612499e-17 -4.38106382e-01]\n",
      " [-1.10696408e-17 -6.63339042e-17 -1.06680987e-16 -1.08131405e-01\n",
      "   5.39828052e-01  1.65833456e-16 -5.62112475e-01  6.14617508e-17\n",
      "  -2.38893788e-17  6.17189468e-01]]\n"
     ]
    }
   ],
   "source": [
    "model_pca = PCA()\n",
    "model_pca.fit(x)\n",
    "model_pca.transform(x)\n",
    "components = model_pca.components_\n",
    "print(components)#所有的主成分\n"
   ]
  },
  {
   "cell_type": "code",
   "execution_count": 11,
   "id": "e84f33c9",
   "metadata": {},
   "outputs": [
    {
     "name": "stdout",
     "output_type": "stream",
     "text": [
      "[4.22602937e+00 2.21149972e+00 1.11509461e+00 1.09123938e+00\n",
      " 1.02864637e+00 1.00339950e+00 9.21917768e-01 8.92677850e-01\n",
      " 4.05147237e-31 3.84417475e-32]\n"
     ]
    }
   ],
   "source": [
    "components_var = model_pca.explained_variance_\n",
    "print(components_var)#所有的主成分的方差"
   ]
  },
  {
   "cell_type": "code",
   "execution_count": 12,
   "id": "86535f10",
   "metadata": {},
   "outputs": [
    {
     "name": "stdout",
     "output_type": "stream",
     "text": [
      "[3.38339364e-01 1.77054475e-01 8.92753857e-02 8.73655166e-02\n",
      " 8.23542686e-02 8.03329836e-02 7.38094896e-02 7.14685179e-02\n",
      " 3.24364187e-32 3.07767771e-33]\n"
     ]
    }
   ],
   "source": [
    "components_var_ratio = model_pca.explained_variance_ratio_\n",
    "print(components_var_ratio)#主成分方差占比"
   ]
  },
  {
   "cell_type": "code",
   "execution_count": 16,
   "id": "8fd2eb60",
   "metadata": {},
   "outputs": [
    {
     "name": "stdout",
     "output_type": "stream",
     "text": [
      "0.7743890089501771\n"
     ]
    }
   ],
   "source": [
    "sum_x = components_var_ratio[:5].sum()\n",
    "print(sum_x)"
   ]
  },
  {
   "cell_type": "code",
   "execution_count": null,
   "id": "d1c91f25",
   "metadata": {},
   "outputs": [],
   "source": [
    "#接近80%，前五个主成分基本可以作为转换后的主成分参与后续计算"
   ]
  }
 ],
 "metadata": {
  "kernelspec": {
   "display_name": "Python 3 (ipykernel)",
   "language": "python",
   "name": "python3"
  },
  "language_info": {
   "codemirror_mode": {
    "name": "ipython",
    "version": 3
   },
   "file_extension": ".py",
   "mimetype": "text/x-python",
   "name": "python",
   "nbconvert_exporter": "python",
   "pygments_lexer": "ipython3",
   "version": "3.9.13"
  }
 },
 "nbformat": 4,
 "nbformat_minor": 5
}
