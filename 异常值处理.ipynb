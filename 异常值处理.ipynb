{
 "cells": [
  {
   "cell_type": "code",
   "execution_count": 1,
   "id": "888eb378",
   "metadata": {},
   "outputs": [
    {
     "data": {
      "text/plain": [
       "'\\n异常值处理\\n'"
      ]
     },
     "execution_count": 1,
     "metadata": {},
     "output_type": "execute_result"
    }
   ],
   "source": [
    "\"\"\"\n",
    "异常值处理\n",
    "Z标准化\n",
    "\"\"\""
   ]
  },
  {
   "cell_type": "code",
   "execution_count": 12,
   "id": "78ab5274",
   "metadata": {},
   "outputs": [
    {
     "name": "stdout",
     "output_type": "stream",
     "text": [
      "   col1  col2\n",
      "0     1    12\n",
      "1   120    17\n",
      "2     3    31\n",
      "3     5    53\n",
      "4     2    22\n",
      "5    12    32\n",
      "6    13    43\n",
      "    col1   col2\n",
      "0  False  False\n",
      "1   True  False\n",
      "2  False  False\n",
      "3  False  False\n",
      "4  False  False\n",
      "5  False  False\n",
      "6  False  False\n"
     ]
    }
   ],
   "source": [
    "import pandas as pd\n",
    "df = pd.DataFrame({'col1':[1,120,3,5,2,12,13],'col2':[12,17,31,53,22,32,43]})\n",
    "print(df)\n",
    "df_zscore = df.copy()\n",
    "cols = df.columns\n",
    "'''\n",
    "print(df['col1'])\n",
    "print(df['col1'].mean())\n",
    "print(df['col1'].std())\n",
    "df_col_test = (df['col1'] - df['col1'].mean())/df['col1'].std()\n",
    "print(df_col_test)\n",
    "'''\n",
    "for col in cols:\n",
    "    df_col = df[col]\n",
    "    z_score = (df_col - df_col.mean())/df_col.std()# Z_score = (df_col - df_col.mean) / df_col.std()\n",
    "    df_zscore[col] = z_score > 2.2#一个经验值，如果z值大于2.2属于异常值\n",
    "print(df_zscore)\n",
    "    "
   ]
  },
  {
   "cell_type": "code",
   "execution_count": null,
   "id": "9b46caf0",
   "metadata": {},
   "outputs": [],
   "source": []
  }
 ],
 "metadata": {
  "kernelspec": {
   "display_name": "Python 3 (ipykernel)",
   "language": "python",
   "name": "python3"
  },
  "language_info": {
   "codemirror_mode": {
    "name": "ipython",
    "version": 3
   },
   "file_extension": ".py",
   "mimetype": "text/x-python",
   "name": "python",
   "nbconvert_exporter": "python",
   "pygments_lexer": "ipython3",
   "version": "3.9.13"
  }
 },
 "nbformat": 4,
 "nbformat_minor": 5
}
